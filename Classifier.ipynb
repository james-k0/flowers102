{
 "cells": [
  {
   "cell_type": "markdown",
   "id": "142eeeb79eb83a8a",
   "metadata": {},
   "source": [
    "# Lets import some things"
   ]
  },
  {
   "cell_type": "code",
   "id": "4ad965f1f42def01",
   "metadata": {},
   "source": [
    "import numpy as np\n",
    "import matplotlib.pyplot as plt\n",
    "import seaborn as sns\n",
    "import torch\n",
    "from torch.utils.data import DataLoader\n",
    "import torch.nn as nn\n",
    "import torchvision\n",
    "from torchvision import datasets\n",
    "import torchvision.transforms.v2 as transforms\n",
    "import time"
   ],
   "outputs": [],
   "execution_count": null
  },
  {
   "cell_type": "markdown",
   "id": "d88e0acccf7cb139",
   "metadata": {},
   "source": [
    "# Decide if cuda"
   ]
  },
  {
   "cell_type": "code",
   "id": "73da4c622feeb2aa",
   "metadata": {},
   "source": [
    "device = torch.device(\"cuda\" if torch.cuda.is_available() else \"cpu\")\n",
    "print(device)\n",
    "torch.backends.cudnn.benchmark = True"
   ],
   "outputs": [],
   "execution_count": null
  },
  {
   "cell_type": "markdown",
   "id": "c2ad99af88910169",
   "metadata": {},
   "source": [
    "# Load dataset"
   ]
  },
  {
   "metadata": {},
   "cell_type": "code",
   "source": [
    "batchsize = 30\n",
    "num_classes = 102\n",
    "learning_rate = 0.0004\n",
    "num_epochs = 100"
   ],
   "id": "7690d8df799a18b7",
   "outputs": [],
   "execution_count": null
  },
  {
   "cell_type": "code",
   "id": "c91f24f7d6957763",
   "metadata": {},
   "source": [
    "trainingData = datasets.Flowers102(\n",
    "    root=\"data\",\n",
    "    split = \"train\",\n",
    "    download = True,\n",
    "    transform = transforms.Compose([\n",
    "        transforms.Resize((224,224)),\n",
    "        # transforms.RandomResizedCrop((256, 256),antialias=True),\n",
    "        transforms.RandomHorizontalFlip(),\n",
    "        transforms.RandomRotation(10), \n",
    "        transforms.ColorJitter(contrast=0.05,brightness=0.05, saturation=0.05),\n",
    "        transforms.RandomAffine(degrees=10,translate=(0.1,0.1),scale=(0.9,1.1),shear=0.15),\n",
    "        transforms.GaussianBlur(kernel_size=(3,3),sigma=(0.1,1.)),\n",
    "        transforms.ToTensor(),\n",
    "        transforms.Normalize([0.485, 0.456, 0.406], [0.229, 0.224, 0.225])\n",
    "    ])\n",
    ")\n",
    "testData = datasets.Flowers102(\n",
    "    root=\"data\",\n",
    "    split= \"test\",\n",
    "    download = True,\n",
    "    transform = transforms.Compose([\n",
    "        transforms.Resize((224, 224)),\n",
    "        transforms.ToTensor(),\n",
    "        transforms.Normalize([0.485, 0.456, 0.406], [0.229, 0.224, 0.225])\n",
    "    ])\n",
    ")\n",
    "valData = datasets.Flowers102(\n",
    "    root=\"data\",\n",
    "    split = \"val\",\n",
    "    download = True,\n",
    "    transform = transforms.Compose([\n",
    "        transforms.Resize((224, 224)),\n",
    "        transforms.ToTensor(),\n",
    "        transforms.Normalize([0.485, 0.456, 0.406], [0.229, 0.224, 0.225])\n",
    "    ])\n",
    ")"
   ],
   "outputs": [],
   "execution_count": null
  },
  {
   "metadata": {},
   "cell_type": "code",
   "source": [
    "print(f'training data has: {len(trainingData)} images')\n",
    "print(f'validation data has: {len(valData)} images')\n",
    "print(f'test data has: {len(testData)} images')"
   ],
   "id": "5eea86165b19f949",
   "outputs": [],
   "execution_count": null
  },
  {
   "cell_type": "markdown",
   "id": "bd64623863f268b9",
   "metadata": {},
   "source": "# Get some dataloaders"
  },
  {
   "metadata": {},
   "cell_type": "code",
   "source": [
    "train_dataloader = DataLoader(trainingData, batch_size=batchsize, shuffle=True, num_workers=12, pin_memory=True, persistent_workers=True,prefetch_factor=16)\n",
    "test_dataloader = DataLoader(testData, batch_size=batchsize, shuffle=False, num_workers=4)\n",
    "val_dataloader = DataLoader(valData, batch_size=batchsize, shuffle=False, num_workers=4)"
   ],
   "id": "b9a820ebbeb7301",
   "outputs": [],
   "execution_count": null
  },
  {
   "metadata": {},
   "cell_type": "markdown",
   "source": "# Neural Network class",
   "id": "868426731ab0327f"
  },
  {
   "metadata": {},
   "cell_type": "code",
   "source": [
    "class NeuralNet(nn.Module):\n",
    "    def __init__(self):\n",
    "        super(NeuralNet, self).__init__()\n",
    "        self.features = nn.Sequential(\n",
    "            #conv1\n",
    "            nn.Conv2d(3,32,kernel_size=3,padding=1,bias=False),\n",
    "            nn.BatchNorm2d(32),\n",
    "            nn.ReLU(),\n",
    "            nn.MaxPool2d(kernel_size=2),#128x128\n",
    "            #conv2\n",
    "            nn.Conv2d(32,64,kernel_size=3,padding=1,bias=False),\n",
    "            nn.BatchNorm2d(64),\n",
    "            nn.ReLU(),\n",
    "            nn.MaxPool2d(kernel_size=2),#64x64\n",
    "            #conv3\n",
    "            nn.Conv2d(64,128,kernel_size=3,padding=1,bias=False),\n",
    "            nn.BatchNorm2d(128),\n",
    "            nn.ReLU(),\n",
    "            nn.MaxPool2d(kernel_size=2),#32x32\n",
    "            #conv4\n",
    "            nn.Conv2d(128,256,kernel_size=3,padding=1,bias=False),\n",
    "            nn.BatchNorm2d(256),\n",
    "            nn.ReLU(),\n",
    "            nn.MaxPool2d(kernel_size=2),#16x16\n",
    "            #conv5\n",
    "            nn.Conv2d(256,512,kernel_size=3,padding=1,bias=False),\n",
    "            nn.BatchNorm2d(512),\n",
    "            nn.ReLU(),\n",
    "            nn.MaxPool2d(kernel_size=2)#8x8\n",
    "        )\n",
    "        \n",
    "        self.global_avg_pool = nn.AdaptiveAvgPool2d((1,1))\n",
    "        \n",
    "        self.classifier = nn.Sequential(\n",
    "            nn.Dropout(0.4),\n",
    "            nn.Linear(512,1024),\n",
    "            nn.ReLU(),\n",
    "            nn.Dropout(0.4),\n",
    "            nn.Linear(1024,num_classes),\n",
    "            nn.LogSoftmax(dim=1)\n",
    "        )\n",
    "        \n",
    "        \n",
    "    def forward(self, x):\n",
    "        x= self.features(x)\n",
    "        x= self.global_avg_pool(x)\n",
    "        x= x.view(x.size(0),-1)\n",
    "        x = self.classifier(x)\n",
    "        return x"
   ],
   "id": "8d59a57a6b65b022",
   "outputs": [],
   "execution_count": null
  },
  {
   "metadata": {},
   "cell_type": "markdown",
   "source": "# Model = something",
   "id": "dc3cece99a0a34e5"
  },
  {
   "metadata": {},
   "cell_type": "code",
   "source": [
    "model = NeuralNet().to(device, non_blocking=True)\n",
    "cost = nn.CrossEntropyLoss().to(device, non_blocking=True)\n",
    "optimizer = torch.optim.Adam(model.parameters(), lr=learning_rate, weight_decay=1e-5)\n",
    "scheduler = torch.optim.lr_scheduler.ReduceLROnPlateau(optimizer,patience=10,factor=0.1,verbose=True)"
   ],
   "id": "3c674a71d42e7ccf",
   "outputs": [],
   "execution_count": null
  },
  {
   "metadata": {},
   "cell_type": "markdown",
   "source": "# Actually do the training, needs to print less often",
   "id": "b45d3b77ea993113"
  },
  {
   "metadata": {},
   "cell_type": "code",
   "source": [
    "def train():\n",
    "    loss_per_epoch = [] # clear all data incase retraining\n",
    "    val_epochs = []\n",
    "    quit_early_counter = 0\n",
    "    last_epoch_loss = None\n",
    "    for epoch in range(num_epochs):\n",
    "        epoch_start = time.time()\n",
    "        model.train()\n",
    "        running_loss = 0.0\n",
    "        batches = 0\n",
    "        \n",
    "        for i, (images,labels) in enumerate(train_dataloader):\n",
    "            images = images.to(device, non_blocking=True)\n",
    "            labels = labels.to(device, non_blocking=True)\n",
    "            outputs = model(images)\n",
    "            optimizer.zero_grad()\n",
    "            loss = cost(outputs, labels)\n",
    "            loss.backward()\n",
    "            optimizer.step()\n",
    "            \n",
    "            running_loss += loss.item() #so this line is a sync point for the cpu and gpu commenting it out greatly reduces the training time (up to 25%  in my testing)\n",
    "            batches +=1\n",
    "        \n",
    "        avg_loss = running_loss / batches\n",
    "        loss_per_epoch.append(avg_loss)\n",
    "        \n",
    "        val_acc,val_loss = evaluate(val_dataloader)\n",
    "        val_epochs.append(val_acc)\n",
    "        scheduler.step(val_loss)\n",
    "        \n",
    "        if last_epoch_loss is not None and abs(last_epoch_loss - avg_loss)<0.01:\n",
    "            quit_early_counter += 1\n",
    "        else:\n",
    "            quit_early_counter = 0\n",
    "        last_epoch_loss = avg_loss\n",
    "        \n",
    "        epoch_length = time.time() - epoch_start\n",
    "        print(f'Epoch: {epoch+1}, Avg Loss: {avg_loss:4f}, Num Batches: {batches}, Epoch Time: {epoch_length:.2f}, Validation Acc: {val_acc:.3f}%')\n",
    "        \n",
    "        if quit_early_counter >= 3:\n",
    "            print('val acc isnt improving over last 5 so stop training')\n",
    "            break\n",
    "            \n",
    "    return np.array(loss_per_epoch), np.array(val_epochs)"
   ],
   "id": "72560a0c0069c7aa",
   "outputs": [],
   "execution_count": null
  },
  {
   "metadata": {},
   "cell_type": "markdown",
   "source": "# Plot the avg loss against epochs",
   "id": "d782dcfdf6d119ea"
  },
  {
   "metadata": {},
   "cell_type": "code",
   "source": [
    "def plot_array(array,name):\n",
    "    plt.plot(array, label=f'{name}')\n",
    "    # plt.plot(validation_epoch_losses,label='Validation Loss')   \n",
    "    plt.legend()\n",
    "    plt.show()"
   ],
   "id": "6f85777e0d9e04a",
   "outputs": [],
   "execution_count": null
  },
  {
   "metadata": {},
   "cell_type": "markdown",
   "source": "# Display the training, testing, validation accuracy",
   "id": "b07755bb63750bb6"
  },
  {
   "metadata": {},
   "cell_type": "code",
   "source": [
    "def evaluate(dataloader):\n",
    "    model.eval()\n",
    "    correct = 0\n",
    "    total =0\n",
    "    total_loss =0.0\n",
    "    with torch.no_grad():\n",
    "        for images, labels in dataloader:\n",
    "            images = images.to(device)\n",
    "            labels = labels.to(device)\n",
    "            outputs = model(images)\n",
    "            loss = cost(outputs, labels)\n",
    "            _, predicted = torch.max(outputs.data, 1)\n",
    "            total += labels.size(0)\n",
    "            correct += (predicted==labels).sum().item()\n",
    "            total_loss += loss.item() *labels.size(0)\n",
    "        acc= 100*correct/total\n",
    "        avg_loss = total_loss/total\n",
    "    return acc, avg_loss"
   ],
   "id": "e13855c76f6898e5",
   "outputs": [],
   "execution_count": null
  },
  {
   "metadata": {},
   "cell_type": "code",
   "source": [
    "def all_eval():\n",
    "    accval, _= evaluate(val_dataloader)\n",
    "    print(f'val acc: {accval:.3f}%')\n",
    "    acctest, _ = evaluate(test_dataloader)\n",
    "    print(f'test acc: {acctest:.3f}%')\n",
    "    trainacc, _ = evaluate(train_dataloader)\n",
    "    print(f'train acc: {trainacc:.3f}%')"
   ],
   "id": "c199a21d4f633053",
   "outputs": [],
   "execution_count": null
  },
  {
   "metadata": {},
   "cell_type": "markdown",
   "source": "# Save model",
   "id": "64ed56e49ddcbfe0"
  },
  {
   "metadata": {},
   "cell_type": "code",
   "source": [
    "def save(pathname):\n",
    "    torch.save(NeuralNet().state_dict(), f'{pathname}.pth')\n",
    "    print(f'Saved model to {pathname}.pth')"
   ],
   "id": "2c094c4c70e7f5dc",
   "outputs": [],
   "execution_count": null
  },
  {
   "metadata": {},
   "cell_type": "markdown",
   "source": "# Load model",
   "id": "645b31994f41178c"
  },
  {
   "metadata": {},
   "cell_type": "code",
   "source": [
    "def load(pathname,mod,dev):\n",
    "    mod = NeuralNet().to(dev)\n",
    "    mod.load_state_dict(torch.load(f'{pathname}.pth'))\n",
    "    print(f'Loaded model from {pathname}.pth')"
   ],
   "id": "eaac39b9aad117d5",
   "outputs": [],
   "execution_count": null
  },
  {
   "metadata": {},
   "cell_type": "markdown",
   "source": "# ",
   "id": "ae906685231968d2"
  },
  {
   "metadata": {},
   "cell_type": "code",
   "source": [
    "# def main():\n",
    "#     pass"
   ],
   "id": "70ae5137e096f4f7",
   "outputs": [],
   "execution_count": null
  },
  {
   "metadata": {},
   "cell_type": "code",
   "source": [
    "if __name__ == '__main__':\n",
    "    training_epoch_losses, val_acc_per = train()\n",
    "    plot_array(training_epoch_losses,'training epoch losses')\n",
    "    plot_array(val_acc_per,'validation accuracy per epoch')\n",
    "    all_eval()"
   ],
   "id": "7f7ef997d3d6ae8e",
   "outputs": [],
   "execution_count": null
  },
  {
   "metadata": {},
   "cell_type": "markdown",
   "source": "# Command line to convert this notebook to a python file, the reason is for readability of the code from github lol",
   "id": "3b22420e0604364a"
  },
  {
   "metadata": {},
   "cell_type": "code",
   "source": "# all_eval()",
   "id": "f7a18647da97280c",
   "outputs": [],
   "execution_count": null
  },
  {
   "metadata": {
    "ExecuteTime": {
     "end_time": "2024-05-10T19:42:16.802653Z",
     "start_time": "2024-05-10T19:42:16.794568Z"
    }
   },
   "cell_type": "code",
   "source": [
    "def convert():\n",
    "    !jupyter nbconvert --to script Classifier.ipynb"
   ],
   "id": "312d2e044d24b798",
   "outputs": [],
   "execution_count": 22
  },
  {
   "metadata": {
    "ExecuteTime": {
     "end_time": "2024-05-10T19:41:59.667420Z",
     "start_time": "2024-05-10T19:41:59.652305Z"
    }
   },
   "cell_type": "code",
   "source": "convert()",
   "id": "71e4753f39579a00",
   "outputs": [
    {
     "ename": "NameError",
     "evalue": "name 'convert' is not defined",
     "output_type": "error",
     "traceback": [
      "\u001B[1;31m---------------------------------------------------------------------------\u001B[0m",
      "\u001B[1;31mNameError\u001B[0m                                 Traceback (most recent call last)",
      "Cell \u001B[1;32mIn[21], line 1\u001B[0m\n\u001B[1;32m----> 1\u001B[0m \u001B[43mconvert\u001B[49m()\n",
      "\u001B[1;31mNameError\u001B[0m: name 'convert' is not defined"
     ]
    }
   ],
   "execution_count": 21
  },
  {
   "metadata": {},
   "cell_type": "code",
   "source": "# load('30e465-39&89',model,device)",
   "id": "e05c885a338e5b24",
   "outputs": [],
   "execution_count": null
  },
  {
   "metadata": {},
   "cell_type": "markdown",
   "source": "# todo possibly do the image display thing/ https://pytorch.org/tutorials/beginner/introyt/introyt1_tutorial.html / tune hyperparams",
   "id": "a2cad47e7f89011c"
  },
  {
   "metadata": {},
   "cell_type": "code",
   "source": "",
   "id": "4dc4bba0bbd2482a",
   "outputs": [],
   "execution_count": null
  }
 ],
 "metadata": {
  "kernelspec": {
   "display_name": "Python 3",
   "language": "python",
   "name": "python3"
  },
  "language_info": {
   "codemirror_mode": {
    "name": "ipython",
    "version": 2
   },
   "file_extension": ".py",
   "mimetype": "text/x-python",
   "name": "python",
   "nbconvert_exporter": "python",
   "pygments_lexer": "ipython2",
   "version": "2.7.6"
  }
 },
 "nbformat": 4,
 "nbformat_minor": 5
}
