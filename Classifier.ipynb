{
 "cells": [
  {
   "cell_type": "markdown",
   "id": "142eeeb79eb83a8a",
   "metadata": {},
   "source": [
    "# Lets import some things"
   ]
  },
  {
   "cell_type": "code",
   "id": "4ad965f1f42def01",
   "metadata": {
    "ExecuteTime": {
     "end_time": "2024-05-09T04:03:37.740562Z",
     "start_time": "2024-05-09T04:03:33.022567Z"
    }
   },
   "source": [
    "import numpy as np\n",
    "import matplotlib.pyplot as plt\n",
    "import seaborn as sns\n",
    "import torch\n",
    "from torch.utils.data import DataLoader\n",
    "import torch.nn as nn\n",
    "import torchvision\n",
    "from torchvision import datasets\n",
    "import torchvision.transforms.v2 as transforms\n"
   ],
   "outputs": [],
   "execution_count": 1
  },
  {
   "cell_type": "markdown",
   "id": "d88e0acccf7cb139",
   "metadata": {},
   "source": [
    "# Decide if cuda"
   ]
  },
  {
   "cell_type": "code",
   "id": "73da4c622feeb2aa",
   "metadata": {
    "ExecuteTime": {
     "end_time": "2024-05-09T04:03:37.745561Z",
     "start_time": "2024-05-09T04:03:37.741629Z"
    }
   },
   "source": [
    "device = torch.device(\"cuda\" if torch.cuda.is_available() else \"cpu\")\n",
    "print(device)\n",
    "torch.backends.cudnn.benchmark = True"
   ],
   "outputs": [
    {
     "name": "stdout",
     "output_type": "stream",
     "text": [
      "cuda\n"
     ]
    }
   ],
   "execution_count": 2
  },
  {
   "cell_type": "markdown",
   "id": "c2ad99af88910169",
   "metadata": {},
   "source": [
    "# Load dataset"
   ]
  },
  {
   "metadata": {
    "ExecuteTime": {
     "end_time": "2024-05-09T04:03:37.751202Z",
     "start_time": "2024-05-09T04:03:37.746560Z"
    }
   },
   "cell_type": "code",
   "source": [
    "batchsize = 16\n",
    "num_classes = 102\n",
    "learning_rate = 0.0015\n",
    "num_epochs = 100"
   ],
   "id": "7690d8df799a18b7",
   "outputs": [],
   "execution_count": 3
  },
  {
   "cell_type": "code",
   "id": "c91f24f7d6957763",
   "metadata": {
    "ExecuteTime": {
     "end_time": "2024-05-09T04:03:40.084120Z",
     "start_time": "2024-05-09T04:03:39.997416Z"
    }
   },
   "source": [
    "trainingData = datasets.Flowers102(\n",
    "    root=\"data\",\n",
    "    split = \"train\",\n",
    "    download = True,\n",
    "    transform = transforms.Compose([\n",
    "        transforms.Resize((256, 256)),\n",
    "        transforms.RandomHorizontalFlip(),\n",
    "        transforms.RandomRotation(10),\n",
    "        transforms.RandomVerticalFlip(),\n",
    "        transforms.ToTensor(),\n",
    "    ])\n",
    ")\n",
    "testData = datasets.Flowers102(\n",
    "    root=\"data\",\n",
    "    split= \"test\",\n",
    "    download = True,\n",
    "    transform = transforms.Compose([\n",
    "        transforms.Resize((256, 256)),\n",
    "        transforms.ToTensor()\n",
    "    ])\n",
    ")\n",
    "valData = datasets.Flowers102(\n",
    "    root=\"data\",\n",
    "    split = \"val\",\n",
    "    download = True,\n",
    "    transform = transforms.Compose([\n",
    "        transforms.Resize((256, 256)),\n",
    "        transforms.ToTensor()\n",
    "    ])\n",
    ")"
   ],
   "outputs": [
    {
     "name": "stderr",
     "output_type": "stream",
     "text": [
      "C:\\Users\\James\\AppData\\Local\\Programs\\Python\\Python312\\Lib\\site-packages\\torchvision\\transforms\\v2\\_deprecated.py:42: UserWarning: The transform `ToTensor()` is deprecated and will be removed in a future release. Instead, please use `v2.Compose([v2.ToImage(), v2.ToDtype(torch.float32, scale=True)])`.Output is equivalent up to float precision.\n",
      "  warnings.warn(\n"
     ]
    }
   ],
   "execution_count": 4
  },
  {
   "cell_type": "markdown",
   "id": "bd64623863f268b9",
   "metadata": {},
   "source": "# Get some dataloaders"
  },
  {
   "metadata": {
    "ExecuteTime": {
     "end_time": "2024-05-09T04:03:43.319585Z",
     "start_time": "2024-05-09T04:03:43.315118Z"
    }
   },
   "cell_type": "code",
   "source": [
    "train_dataloader = DataLoader(trainingData, batch_size=batchsize, shuffle=True, num_workers=4, pin_memory=True)\n",
    "test_dataloader = DataLoader(testData, batch_size=batchsize, shuffle=False, num_workers=4, pin_memory=True)\n",
    "val_dataloader = DataLoader(valData, batch_size=batchsize, shuffle=False, num_workers=4, pin_memory=True)"
   ],
   "id": "b9a820ebbeb7301",
   "outputs": [],
   "execution_count": 5
  },
  {
   "metadata": {},
   "cell_type": "markdown",
   "source": "# Neural Network class",
   "id": "868426731ab0327f"
  },
  {
   "metadata": {
    "ExecuteTime": {
     "end_time": "2024-05-09T04:03:46.166845Z",
     "start_time": "2024-05-09T04:03:46.160453Z"
    }
   },
   "cell_type": "code",
   "source": [
    "class NeuralNet(nn.Module):\n",
    "    def __init__(self):\n",
    "        super(NeuralNet, self).__init__()\n",
    "        self.features = nn.Sequential(\n",
    "            nn.Conv2d(3,32,kernel_size=5,stride=1,padding=2),\n",
    "            nn.ReLU(),\n",
    "            nn.MaxPool2d(kernel_size=2, stride=2),#half size\n",
    "            nn.Conv2d(32,64,kernel_size=5,stride=1,padding=2),\n",
    "            nn.ReLU(),\n",
    "            nn.MaxPool2d(kernel_size=2, stride=2),#half size\n",
    "        )\n",
    "        self.classifier = nn.Sequential(\n",
    "            nn.Linear(64*64*64 ,1024),\n",
    "            nn.ReLU(),\n",
    "            nn.Dropout(0.2), #add a bit of randomness for some fun  + generality\n",
    "            nn.Linear(1024,102),\n",
    "        )\n",
    "        \n",
    "        \n",
    "    def forward(self, x):\n",
    "        x= self.features(x)\n",
    "        x= x.view(x.size(0),-1)\n",
    "        x = self.classifier(x)\n",
    "        return x"
   ],
   "id": "8d59a57a6b65b022",
   "outputs": [],
   "execution_count": 6
  },
  {
   "metadata": {},
   "cell_type": "markdown",
   "source": "# Model = something",
   "id": "dc3cece99a0a34e5"
  },
  {
   "metadata": {
    "ExecuteTime": {
     "end_time": "2024-05-09T04:03:51.337961Z",
     "start_time": "2024-05-09T04:03:49.551117Z"
    }
   },
   "cell_type": "code",
   "source": [
    "model = NeuralNet().to(device,non_blocking=True)\n",
    "cost = nn.CrossEntropyLoss()\n",
    "optimizer = torch.optim.SGD(model.parameters(), lr=learning_rate)"
   ],
   "id": "3c674a71d42e7ccf",
   "outputs": [],
   "execution_count": 7
  },
  {
   "metadata": {},
   "cell_type": "markdown",
   "source": "# Actually do the training, needs to print less often",
   "id": "b45d3b77ea993113"
  },
  {
   "metadata": {
    "ExecuteTime": {
     "end_time": "2024-05-09T04:20:41.023487Z",
     "start_time": "2024-05-09T04:04:12.438410Z"
    }
   },
   "cell_type": "code",
   "source": [
    "training_epoch_losses = []\n",
    "def train():\n",
    "    for epoch in range(num_epochs):\n",
    "        running_loss = 0.0\n",
    "        batches = 0\n",
    "        for i, (images,labels) in enumerate(train_dataloader):\n",
    "            images = images.to(device, non_blocking=True)\n",
    "            labels = labels.to(device, non_blocking=True)\n",
    "            # images = images.to(device)\n",
    "            # labels = labels.to(device)\n",
    "            outputs = model(images)\n",
    "            optimizer.zero_grad()\n",
    "            loss = cost(outputs, labels)\n",
    "            loss.backward()\n",
    "            optimizer.step()\n",
    "            \n",
    "            running_loss += loss.item()\n",
    "            batches +=1\n",
    "        training_epoch_losses.append(running_loss/batches)\n",
    "        print(f'Epoch: {epoch+1}, Avg Loss: {running_loss/batches:4f}, Num Batches: {batches}')\n",
    "train()"
   ],
   "id": "72560a0c0069c7aa",
   "outputs": [
    {
     "name": "stdout",
     "output_type": "stream",
     "text": [
      "Epoch: 1, Avg Loss: 4.635397, Num Batches: 64\n",
      "Epoch: 2, Avg Loss: 4.615799, Num Batches: 64\n",
      "Epoch: 3, Avg Loss: 4.601417, Num Batches: 64\n",
      "Epoch: 4, Avg Loss: 4.580174, Num Batches: 64\n",
      "Epoch: 5, Avg Loss: 4.549383, Num Batches: 64\n",
      "Epoch: 6, Avg Loss: 4.508482, Num Batches: 64\n",
      "Epoch: 7, Avg Loss: 4.451995, Num Batches: 64\n",
      "Epoch: 8, Avg Loss: 4.364863, Num Batches: 64\n",
      "Epoch: 9, Avg Loss: 4.275400, Num Batches: 64\n",
      "Epoch: 10, Avg Loss: 4.171195, Num Batches: 64\n",
      "Epoch: 11, Avg Loss: 4.086018, Num Batches: 64\n",
      "Epoch: 12, Avg Loss: 3.993608, Num Batches: 64\n",
      "Epoch: 13, Avg Loss: 3.928484, Num Batches: 64\n",
      "Epoch: 14, Avg Loss: 3.868900, Num Batches: 64\n",
      "Epoch: 15, Avg Loss: 3.777992, Num Batches: 64\n",
      "Epoch: 16, Avg Loss: 3.707476, Num Batches: 64\n",
      "Epoch: 17, Avg Loss: 3.602002, Num Batches: 64\n",
      "Epoch: 18, Avg Loss: 3.562117, Num Batches: 64\n",
      "Epoch: 19, Avg Loss: 3.430564, Num Batches: 64\n",
      "Epoch: 20, Avg Loss: 3.358254, Num Batches: 64\n",
      "Epoch: 21, Avg Loss: 3.297239, Num Batches: 64\n",
      "Epoch: 22, Avg Loss: 3.211164, Num Batches: 64\n",
      "Epoch: 23, Avg Loss: 3.177521, Num Batches: 64\n",
      "Epoch: 24, Avg Loss: 3.110814, Num Batches: 64\n",
      "Epoch: 25, Avg Loss: 3.037784, Num Batches: 64\n",
      "Epoch: 26, Avg Loss: 2.980345, Num Batches: 64\n",
      "Epoch: 27, Avg Loss: 2.904226, Num Batches: 64\n",
      "Epoch: 28, Avg Loss: 2.888710, Num Batches: 64\n",
      "Epoch: 29, Avg Loss: 2.805509, Num Batches: 64\n",
      "Epoch: 30, Avg Loss: 2.799480, Num Batches: 64\n",
      "Epoch: 31, Avg Loss: 2.719616, Num Batches: 64\n",
      "Epoch: 32, Avg Loss: 2.668399, Num Batches: 64\n",
      "Epoch: 33, Avg Loss: 2.634034, Num Batches: 64\n",
      "Epoch: 34, Avg Loss: 2.581265, Num Batches: 64\n",
      "Epoch: 35, Avg Loss: 2.537766, Num Batches: 64\n",
      "Epoch: 36, Avg Loss: 2.445931, Num Batches: 64\n",
      "Epoch: 37, Avg Loss: 2.411621, Num Batches: 64\n",
      "Epoch: 38, Avg Loss: 2.370302, Num Batches: 64\n",
      "Epoch: 39, Avg Loss: 2.357667, Num Batches: 64\n",
      "Epoch: 40, Avg Loss: 2.296365, Num Batches: 64\n",
      "Epoch: 41, Avg Loss: 2.227652, Num Batches: 64\n",
      "Epoch: 42, Avg Loss: 2.152627, Num Batches: 64\n",
      "Epoch: 43, Avg Loss: 2.146083, Num Batches: 64\n",
      "Epoch: 44, Avg Loss: 2.074634, Num Batches: 64\n",
      "Epoch: 45, Avg Loss: 2.024727, Num Batches: 64\n",
      "Epoch: 46, Avg Loss: 1.972436, Num Batches: 64\n",
      "Epoch: 47, Avg Loss: 1.948984, Num Batches: 64\n",
      "Epoch: 48, Avg Loss: 1.854609, Num Batches: 64\n",
      "Epoch: 49, Avg Loss: 1.804296, Num Batches: 64\n",
      "Epoch: 50, Avg Loss: 1.776477, Num Batches: 64\n",
      "Epoch: 51, Avg Loss: 1.794475, Num Batches: 64\n",
      "Epoch: 52, Avg Loss: 1.654762, Num Batches: 64\n",
      "Epoch: 53, Avg Loss: 1.598902, Num Batches: 64\n",
      "Epoch: 54, Avg Loss: 1.599316, Num Batches: 64\n",
      "Epoch: 55, Avg Loss: 1.518789, Num Batches: 64\n",
      "Epoch: 56, Avg Loss: 1.473348, Num Batches: 64\n",
      "Epoch: 57, Avg Loss: 1.355386, Num Batches: 64\n",
      "Epoch: 58, Avg Loss: 1.409852, Num Batches: 64\n",
      "Epoch: 59, Avg Loss: 1.307336, Num Batches: 64\n",
      "Epoch: 60, Avg Loss: 1.315964, Num Batches: 64\n",
      "Epoch: 61, Avg Loss: 1.275623, Num Batches: 64\n",
      "Epoch: 62, Avg Loss: 1.270368, Num Batches: 64\n",
      "Epoch: 63, Avg Loss: 1.172364, Num Batches: 64\n",
      "Epoch: 64, Avg Loss: 1.183643, Num Batches: 64\n",
      "Epoch: 65, Avg Loss: 1.109862, Num Batches: 64\n",
      "Epoch: 66, Avg Loss: 1.138502, Num Batches: 64\n",
      "Epoch: 67, Avg Loss: 0.965925, Num Batches: 64\n",
      "Epoch: 68, Avg Loss: 1.033852, Num Batches: 64\n",
      "Epoch: 69, Avg Loss: 0.989847, Num Batches: 64\n",
      "Epoch: 70, Avg Loss: 0.920606, Num Batches: 64\n",
      "Epoch: 71, Avg Loss: 0.891328, Num Batches: 64\n",
      "Epoch: 72, Avg Loss: 0.859314, Num Batches: 64\n",
      "Epoch: 73, Avg Loss: 0.805029, Num Batches: 64\n",
      "Epoch: 74, Avg Loss: 0.812559, Num Batches: 64\n",
      "Epoch: 75, Avg Loss: 0.885255, Num Batches: 64\n",
      "Epoch: 76, Avg Loss: 0.748813, Num Batches: 64\n",
      "Epoch: 77, Avg Loss: 0.697023, Num Batches: 64\n",
      "Epoch: 78, Avg Loss: 0.685544, Num Batches: 64\n",
      "Epoch: 79, Avg Loss: 0.622833, Num Batches: 64\n",
      "Epoch: 80, Avg Loss: 0.659765, Num Batches: 64\n",
      "Epoch: 81, Avg Loss: 0.559639, Num Batches: 64\n",
      "Epoch: 82, Avg Loss: 0.580530, Num Batches: 64\n",
      "Epoch: 83, Avg Loss: 0.604778, Num Batches: 64\n",
      "Epoch: 84, Avg Loss: 0.574208, Num Batches: 64\n",
      "Epoch: 85, Avg Loss: 0.517379, Num Batches: 64\n",
      "Epoch: 86, Avg Loss: 0.527863, Num Batches: 64\n",
      "Epoch: 87, Avg Loss: 0.549161, Num Batches: 64\n",
      "Epoch: 88, Avg Loss: 0.486074, Num Batches: 64\n",
      "Epoch: 89, Avg Loss: 0.406255, Num Batches: 64\n",
      "Epoch: 90, Avg Loss: 0.391738, Num Batches: 64\n",
      "Epoch: 91, Avg Loss: 0.358507, Num Batches: 64\n",
      "Epoch: 92, Avg Loss: 0.455743, Num Batches: 64\n",
      "Epoch: 93, Avg Loss: 0.368719, Num Batches: 64\n",
      "Epoch: 94, Avg Loss: 0.358201, Num Batches: 64\n",
      "Epoch: 95, Avg Loss: 0.291815, Num Batches: 64\n",
      "Epoch: 96, Avg Loss: 0.357079, Num Batches: 64\n",
      "Epoch: 97, Avg Loss: 0.295306, Num Batches: 64\n",
      "Epoch: 98, Avg Loss: 0.330166, Num Batches: 64\n",
      "Epoch: 99, Avg Loss: 0.309914, Num Batches: 64\n",
      "Epoch: 100, Avg Loss: 0.282143, Num Batches: 64\n"
     ]
    }
   ],
   "execution_count": 9
  },
  {
   "metadata": {},
   "cell_type": "markdown",
   "source": "# Plot the avg loss against epochs",
   "id": "d782dcfdf6d119ea"
  },
  {
   "metadata": {
    "ExecuteTime": {
     "end_time": "2024-05-09T04:20:41.285346Z",
     "start_time": "2024-05-09T04:20:41.025487Z"
    }
   },
   "cell_type": "code",
   "source": [
    "plt.plot(training_epoch_losses, label='Training Loss')\n",
    "# plt.plot(validation_epoch_losses,label='Validation Loss')   \n",
    "plt.legend()\n",
    "plt.show()"
   ],
   "id": "6f85777e0d9e04a",
   "outputs": [
    {
     "data": {
      "text/plain": [
       "<Figure size 640x480 with 1 Axes>"
      ],
      "image/png": "[encoded data removed]"
     },
     "metadata": {},
     "output_type": "display_data"
    }
   ],
   "execution_count": 10
  },
  {
   "metadata": {},
   "cell_type": "markdown",
   "source": "# Display the training, testing, validation accuracy",
   "id": "b07755bb63750bb6"
  },
  {
   "metadata": {
    "ExecuteTime": {
     "end_time": "2024-05-09T04:21:32.923673Z",
     "start_time": "2024-05-09T04:20:41.286346Z"
    }
   },
   "cell_type": "code",
   "source": [
    "def evaluate(dataloader):\n",
    "    model.eval()\n",
    "    correct = 0\n",
    "    total =0\n",
    "    with torch.no_grad():\n",
    "        for images, labels in dataloader:\n",
    "            images = images.to(device)\n",
    "            labels = labels.to(device)\n",
    "            outputs = model(images)\n",
    "            _, predicted = torch.max(outputs.data, 1)\n",
    "            total += labels.size(0)\n",
    "            correct += (predicted==labels).sum().item()\n",
    "        acc= float(100*correct/total)\n",
    "    return acc\n",
    "print(f'val acc: {evaluate(val_dataloader):.3f}%')\n",
    "print(f'test acc: {evaluate(test_dataloader):.3f}%')\n",
    "print(f'train acc: {evaluate(train_dataloader):.3f}%')"
   ],
   "id": "e13855c76f6898e5",
   "outputs": [
    {
     "name": "stdout",
     "output_type": "stream",
     "text": [
      "val acc: 26.078%\n",
      "test acc: 22.426%\n",
      "train acc: 98.039%\n"
     ]
    }
   ],
   "execution_count": 11
  },
  {
   "metadata": {},
   "cell_type": "markdown",
   "source": "# Save model",
   "id": "64ed56e49ddcbfe0"
  },
  {
   "metadata": {},
   "cell_type": "code",
   "source": [
    "def save(pathname):\n",
    "    torch.save(NeuralNet().state_dict(), f'{pathname}.pth')\n",
    "    print(f'Saved model to {pathname}.pth')"
   ],
   "id": "2c094c4c70e7f5dc",
   "outputs": [],
   "execution_count": null
  },
  {
   "metadata": {},
   "cell_type": "markdown",
   "source": "# Load model",
   "id": "645b31994f41178c"
  },
  {
   "metadata": {},
   "cell_type": "code",
   "source": [
    "def load(pathname):\n",
    "    model = NeuralNet().to(device)\n",
    "    model.load_state_dict(torch.load(f'{pathname}.pth'))\n",
    "    print(f'Loaded model from {pathname}.pth')"
   ],
   "id": "eaac39b9aad117d5",
   "outputs": [],
   "execution_count": null
  },
  {
   "metadata": {},
   "cell_type": "markdown",
   "source": "# Command line to convert this notebook to a python file, the reason is for readability of the code from github lol",
   "id": "3b22420e0604364a"
  },
  {
   "metadata": {
    "ExecuteTime": {
     "end_time": "2024-05-09T04:21:36.480988Z",
     "start_time": "2024-05-09T04:21:32.925675Z"
    }
   },
   "cell_type": "code",
   "source": "!jupyter nbconvert --to script Classifier.ipynb",
   "id": "312d2e044d24b798",
   "outputs": [
    {
     "name": "stderr",
     "output_type": "stream",
     "text": [
      "[NbConvertApp] Converting notebook Classifier.ipynb to script\n",
      "[NbConvertApp] Writing 5170 bytes to Classifier.py\n"
     ]
    }
   ],
   "execution_count": 12
  },
  {
   "metadata": {},
   "cell_type": "markdown",
   "source": "# todo possibly do the image display thing/ https://pytorch.org/tutorials/beginner/introyt/introyt1_tutorial.html / tune hyperparams",
   "id": "a2cad47e7f89011c"
  },
  {
   "metadata": {},
   "cell_type": "code",
   "outputs": [],
   "execution_count": null,
   "source": "",
   "id": "1785684343bcc715"
  }
 ],
 "metadata": {
  "kernelspec": {
   "display_name": "Python 3",
   "language": "python",
   "name": "python3"
  },
  "language_info": {
   "codemirror_mode": {
    "name": "ipython",
    "version": 2
   },
   "file_extension": ".py",
   "mimetype": "text/x-python",
   "name": "python",
   "nbconvert_exporter": "python",
   "pygments_lexer": "ipython2",
   "version": "2.7.6"
  }
 },
 "nbformat": 4,
 "nbformat_minor": 5
}
