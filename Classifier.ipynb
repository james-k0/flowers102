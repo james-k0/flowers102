{
 "cells": [
  {
   "cell_type": "markdown",
   "id": "142eeeb79eb83a8a",
   "metadata": {},
   "source": [
    "# Lets import some things"
   ]
  },
  {
   "cell_type": "code",
   "id": "4ad965f1f42def01",
   "metadata": {},
   "source": [
    "import numpy as np\n",
    "import matplotlib.pyplot as plt\n",
    "import seaborn as sns\n",
    "import torch\n",
    "from torch.utils.data import DataLoader\n",
    "import torch.nn as nn\n",
    "import torchvision\n",
    "from torchvision import datasets\n",
    "import torchvision.transforms.v2 as transforms\n"
   ],
   "outputs": [],
   "execution_count": null
  },
  {
   "cell_type": "markdown",
   "id": "d88e0acccf7cb139",
   "metadata": {},
   "source": [
    "# Decide if cuda"
   ]
  },
  {
   "cell_type": "code",
   "id": "73da4c622feeb2aa",
   "metadata": {},
   "source": [
    "device = torch.device(\"cuda\" if torch.cuda.is_available() else \"cpu\")\n",
    "print(device)\n",
    "torch.backends.cudnn.benchmark = True"
   ],
   "outputs": [],
   "execution_count": null
  },
  {
   "cell_type": "markdown",
   "id": "c2ad99af88910169",
   "metadata": {},
   "source": [
    "# Load dataset"
   ]
  },
  {
   "metadata": {},
   "cell_type": "code",
   "source": [
    "batchsize = 16\n",
    "num_classes = 102\n",
    "learning_rate = 0.001\n",
    "num_epochs = 100"
   ],
   "id": "7690d8df799a18b7",
   "outputs": [],
   "execution_count": null
  },
  {
   "cell_type": "code",
   "id": "c91f24f7d6957763",
   "metadata": {},
   "source": [
    "trainingData = datasets.Flowers102(\n",
    "    root=\"data\",\n",
    "    split = \"train\",\n",
    "    download = True,\n",
    "    transform = transforms.Compose([\n",
    "        transforms.Resize((256,256)),\n",
    "        # transforms.RandomResizedCrop((256, 256),antialias=True),\n",
    "        transforms.RandomHorizontalFlip(),\n",
    "        transforms.RandomRotation(30), \n",
    "        transforms.ColorJitter(contrast=0.1,hue=0.1,brightness=0.1, saturation=0.1),\n",
    "        transforms.ToTensor(),\n",
    "        transforms.Normalize([0.485, 0.456, 0.406], [0.229, 0.224, 0.225])\n",
    "    ])\n",
    ")\n",
    "testData = datasets.Flowers102(\n",
    "    root=\"data\",\n",
    "    split= \"test\",\n",
    "    download = True,\n",
    "    transform = transforms.Compose([\n",
    "        transforms.Resize((256, 256)),\n",
    "        transforms.ToTensor()\n",
    "    ])\n",
    ")\n",
    "valData = datasets.Flowers102(\n",
    "    root=\"data\",\n",
    "    split = \"val\",\n",
    "    download = True,\n",
    "    transform = transforms.Compose([\n",
    "        transforms.Resize((256, 256)),\n",
    "        transforms.ToTensor()\n",
    "    ])\n",
    ")"
   ],
   "outputs": [],
   "execution_count": null
  },
  {
   "metadata": {},
   "cell_type": "code",
   "source": [
    "print(f'training data has: {len(trainingData)} images')\n",
    "print(f'validation data has: {len(valData)} images')\n",
    "print(f'test data has: {len(testData)} images')"
   ],
   "id": "5eea86165b19f949",
   "outputs": [],
   "execution_count": null
  },
  {
   "cell_type": "markdown",
   "id": "bd64623863f268b9",
   "metadata": {},
   "source": "# Get some dataloaders"
  },
  {
   "metadata": {},
   "cell_type": "code",
   "source": [
    "train_dataloader = DataLoader(trainingData, batch_size=batchsize, shuffle=True, num_workers=4, pin_memory=True, persistent_workers=True, prefetch_factor=6)\n",
    "test_dataloader = DataLoader(testData, batch_size=batchsize, shuffle=False, num_workers=4, pin_memory=True)\n",
    "val_dataloader = DataLoader(valData, batch_size=batchsize, shuffle=False, num_workers=4, pin_memory=True)"
   ],
   "id": "b9a820ebbeb7301",
   "outputs": [],
   "execution_count": null
  },
  {
   "metadata": {},
   "cell_type": "markdown",
   "source": "# Neural Network class",
   "id": "868426731ab0327f"
  },
  {
   "metadata": {},
   "cell_type": "code",
   "source": [
    "class NeuralNet(nn.Module):\n",
    "    def __init__(self):\n",
    "        super(NeuralNet, self).__init__()\n",
    "        self.features = nn.Sequential(\n",
    "            nn.Conv2d(3,32,kernel_size=3,padding=1),\n",
    "            nn.BatchNorm2d(32),\n",
    "            nn.ReLU(),\n",
    "            nn.MaxPool2d(kernel_size=2),#half size stride defaults to kernel size\n",
    "            nn.Conv2d(32,64,kernel_size=3,padding=1),\n",
    "            nn.BatchNorm2d(64),\n",
    "            nn.ReLU(),\n",
    "            nn.MaxPool2d(kernel_size=2),\n",
    "            nn.Conv2d(64,128,kernel_size=3,padding=1),\n",
    "            nn.BatchNorm2d(128),\n",
    "            nn.ReLU(),\n",
    "            nn.MaxPool2d(kernel_size=2)\n",
    "        )\n",
    "        self.classifier = nn.Sequential(\n",
    "            nn.Dropout(0.5),\n",
    "            nn.Linear(128*32*32,1024),\n",
    "            nn.ReLU(),\n",
    "            nn.Dropout(0.5),\n",
    "            nn.Linear(1024,102),\n",
    "            nn.LogSoftmax(dim=1)\n",
    "        )\n",
    "        \n",
    "        \n",
    "    def forward(self, x):\n",
    "        x= self.features(x)\n",
    "        x= x.view(x.size(0),-1)\n",
    "        x = self.classifier(x)\n",
    "        return x"
   ],
   "id": "8d59a57a6b65b022",
   "outputs": [],
   "execution_count": null
  },
  {
   "metadata": {},
   "cell_type": "markdown",
   "source": "# Model = something",
   "id": "dc3cece99a0a34e5"
  },
  {
   "metadata": {},
   "cell_type": "code",
   "source": [
    "model = NeuralNet().to(device, non_blocking=True)\n",
    "cost = nn.CrossEntropyLoss()\n",
    "optimizer = torch.optim.SGD(model.parameters(), lr=learning_rate)"
   ],
   "id": "3c674a71d42e7ccf",
   "outputs": [],
   "execution_count": null
  },
  {
   "metadata": {},
   "cell_type": "markdown",
   "source": "# Actually do the training, needs to print less often",
   "id": "b45d3b77ea993113"
  },
  {
   "metadata": {},
   "cell_type": "code",
   "source": [
    "def train():\n",
    "    loss_per_epoch = [] # clear all data incase retraining\n",
    "    for epoch in range(num_epochs):\n",
    "        running_loss = 0.0\n",
    "        batches = 0\n",
    "        for i, (images,labels) in enumerate(train_dataloader):\n",
    "            images = images.to(device, non_blocking=True)\n",
    "            labels = labels.to(device, non_blocking=True)\n",
    "            outputs = model(images)\n",
    "            optimizer.zero_grad()\n",
    "            loss = cost(outputs, labels)\n",
    "            loss.backward()\n",
    "            optimizer.step()\n",
    "            \n",
    "            running_loss += loss.item()\n",
    "            batches +=1\n",
    "        loss_per_epoch.append(running_loss / batches)\n",
    "        print(f'Epoch: {epoch+1}, Avg Loss: {running_loss/batches:4f}, Num Batches: {batches}')\n",
    "    return loss_per_epoch"
   ],
   "id": "72560a0c0069c7aa",
   "outputs": [],
   "execution_count": null
  },
  {
   "metadata": {},
   "cell_type": "markdown",
   "source": "# Plot the avg loss against epochs",
   "id": "d782dcfdf6d119ea"
  },
  {
   "metadata": {},
   "cell_type": "code",
   "source": [
    "def plot_train(epoch_losses):\n",
    "    plt.plot(epoch_losses, label='Training Loss')\n",
    "    # plt.plot(validation_epoch_losses,label='Validation Loss')   \n",
    "    plt.legend()\n",
    "    plt.show()"
   ],
   "id": "6f85777e0d9e04a",
   "outputs": [],
   "execution_count": null
  },
  {
   "metadata": {},
   "cell_type": "markdown",
   "source": "# Display the training, testing, validation accuracy",
   "id": "b07755bb63750bb6"
  },
  {
   "metadata": {},
   "cell_type": "code",
   "source": [
    "def evaluate(dataloader):\n",
    "    model.eval()\n",
    "    correct = 0\n",
    "    total =0\n",
    "    with torch.no_grad():\n",
    "        for images, labels in dataloader:\n",
    "            images = images.to(device)\n",
    "            labels = labels.to(device)\n",
    "            outputs = model(images)\n",
    "            _, predicted = torch.max(outputs.data, 1)\n",
    "            total += labels.size(0)\n",
    "            correct += (predicted==labels).sum().item()\n",
    "        acc= float(100*correct/total)\n",
    "    return acc\n",
    "# print(f'val acc: {evaluate(val_dataloader):.3f}%')\n",
    "# print(f'test acc: {evaluate(test_dataloader):.3f}%')\n",
    "# print(f'train acc: {evaluate(train_dataloader):.3f}%')"
   ],
   "id": "e13855c76f6898e5",
   "outputs": [],
   "execution_count": null
  },
  {
   "metadata": {},
   "cell_type": "code",
   "source": [
    "def all_eval():\n",
    "    print(f'val acc: {evaluate(val_dataloader):.3f}%')\n",
    "    print(f'test acc: {evaluate(test_dataloader):.3f}%')\n",
    "    print(f'train acc: {evaluate(train_dataloader):.3f}%')"
   ],
   "id": "c199a21d4f633053",
   "outputs": [],
   "execution_count": null
  },
  {
   "metadata": {},
   "cell_type": "markdown",
   "source": "# Save model",
   "id": "64ed56e49ddcbfe0"
  },
  {
   "metadata": {},
   "cell_type": "code",
   "source": [
    "def save(pathname):\n",
    "    torch.save(NeuralNet().state_dict(), f'{pathname}.pth')\n",
    "    print(f'Saved model to {pathname}.pth')"
   ],
   "id": "2c094c4c70e7f5dc",
   "outputs": [],
   "execution_count": null
  },
  {
   "metadata": {},
   "cell_type": "markdown",
   "source": "# Load model",
   "id": "645b31994f41178c"
  },
  {
   "metadata": {},
   "cell_type": "code",
   "source": [
    "def load(pathname):\n",
    "    # model = NeuralNet().to(device)\n",
    "    model.load_state_dict(torch.load(f'{pathname}.pth'))\n",
    "    print(f'Loaded model from {pathname}.pth')"
   ],
   "id": "eaac39b9aad117d5",
   "outputs": [],
   "execution_count": null
  },
  {
   "metadata": {},
   "cell_type": "code",
   "source": [
    "# def main():\n",
    "#     pass"
   ],
   "id": "70ae5137e096f4f7",
   "outputs": [],
   "execution_count": null
  },
  {
   "metadata": {},
   "cell_type": "code",
   "source": [
    "if __name__ == '__main__':\n",
    "    training_epoch_losses = train()\n",
    "    plot_train(training_epoch_losses)\n",
    "    all_eval()"
   ],
   "id": "7f7ef997d3d6ae8e",
   "outputs": [],
   "execution_count": null
  },
  {
   "metadata": {},
   "cell_type": "markdown",
   "source": "# Command line to convert this notebook to a python file, the reason is for readability of the code from github lol",
   "id": "3b22420e0604364a"
  },
  {
   "metadata": {},
   "cell_type": "code",
   "source": "!jupyter nbconvert --to script Classifier.ipynb",
   "id": "312d2e044d24b798",
   "outputs": [],
   "execution_count": null
  },
  {
   "metadata": {},
   "cell_type": "markdown",
   "source": "# todo possibly do the image display thing/ https://pytorch.org/tutorials/beginner/introyt/introyt1_tutorial.html / tune hyperparams",
   "id": "a2cad47e7f89011c"
  },
  {
   "metadata": {},
   "cell_type": "code",
   "source": "",
   "id": "4dc4bba0bbd2482a",
   "outputs": [],
   "execution_count": null
  }
 ],
 "metadata": {
  "kernelspec": {
   "display_name": "Python 3",
   "language": "python",
   "name": "python3"
  },
  "language_info": {
   "codemirror_mode": {
    "name": "ipython",
    "version": 2
   },
   "file_extension": ".py",
   "mimetype": "text/x-python",
   "name": "python",
   "nbconvert_exporter": "python",
   "pygments_lexer": "ipython2",
   "version": "2.7.6"
  }
 },
 "nbformat": 4,
 "nbformat_minor": 5
}
