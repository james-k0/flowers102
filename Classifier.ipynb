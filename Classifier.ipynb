{
 "cells": [
  {
   "cell_type": "markdown",
   "id": "142eeeb79eb83a8a",
   "metadata": {},
   "source": [
    "# Lets import some things"
   ]
  },
  {
   "cell_type": "code",
   "id": "4ad965f1f42def01",
   "metadata": {
    "ExecuteTime": {
     "end_time": "2024-05-08T00:46:43.002Z",
     "start_time": "2024-05-08T00:46:42.997672Z"
    }
   },
   "source": [
    "import numpy as np\n",
    "import matplotlib.pyplot as plt\n",
    "import seaborn as sns\n",
    "import torch\n",
    "from torch.utils.data import DataLoader\n",
    "import torch.nn as nn\n",
    "import torchvision\n",
    "from torchvision import datasets, transforms\n"
   ],
   "outputs": [],
   "execution_count": 8
  },
  {
   "cell_type": "markdown",
   "id": "d88e0acccf7cb139",
   "metadata": {},
   "source": [
    "# Decide if cuda"
   ]
  },
  {
   "cell_type": "code",
   "id": "73da4c622feeb2aa",
   "metadata": {
    "ExecuteTime": {
     "end_time": "2024-05-08T00:24:33.804571Z",
     "start_time": "2024-05-08T00:24:33.794045Z"
    }
   },
   "source": [
    "device = torch.device(\"cuda\" if torch.cuda.is_available() else \"cpu\")\n",
    "print(device)"
   ],
   "outputs": [
    {
     "name": "stdout",
     "output_type": "stream",
     "text": [
      "cuda\n"
     ]
    }
   ],
   "execution_count": 5
  },
  {
   "cell_type": "markdown",
   "id": "c2ad99af88910169",
   "metadata": {},
   "source": [
    "# Load dataset"
   ]
  },
  {
   "cell_type": "code",
   "id": "c91f24f7d6957763",
   "metadata": {
    "ExecuteTime": {
     "end_time": "2024-05-08T00:24:35.945212Z",
     "start_time": "2024-05-08T00:24:35.123115Z"
    }
   },
   "source": [
    "trainingData = datasets.Flowers102(\n",
    "    root=\"data\",\n",
    "    split = \"train\",\n",
    "    download = True,\n",
    "    transform = transforms.ToTensor()\n",
    ")\n",
    "testData = datasets.Flowers102(\n",
    "    root=\"data\",\n",
    "    split= \"test\",\n",
    "    download = True,\n",
    "    transform = transforms.ToTensor()\n",
    ")\n",
    "valData = datasets.Flowers102(\n",
    "    root=\"data\",\n",
    "    split = \"val\",\n",
    "    download = True,\n",
    "    transform = transforms.ToTensor()\n",
    ")"
   ],
   "outputs": [],
   "execution_count": 6
  },
  {
   "cell_type": "markdown",
   "id": "bd64623863f268b9",
   "metadata": {},
   "source": "# Get some dataloaders"
  },
  {
   "metadata": {
    "ExecuteTime": {
     "end_time": "2024-05-08T00:52:09.448827Z",
     "start_time": "2024-05-08T00:52:09.443253Z"
    }
   },
   "cell_type": "code",
   "source": [
    "batchsize = 32\n",
    "train_dataloader = DataLoader(trainingData, batch_size=batchsize, shuffle=True, num_workers=2)\n",
    "test_dataloader = DataLoader(testData, batch_size=batchsize, shuffle=True,num_workers=2)\n",
    "val_dataloader = DataLoader(valData, batch_size=batchsize, shuffle=True,num_workers=2)\n",
    "\n",
    "#todo get some dataloaders of the form compose"
   ],
   "id": "b9a820ebbeb7301",
   "outputs": [],
   "execution_count": 14
  },
  {
   "metadata": {},
   "cell_type": "markdown",
   "source": "# Neural Network class",
   "id": "868426731ab0327f"
  },
  {
   "metadata": {},
   "cell_type": "code",
   "outputs": [],
   "execution_count": null,
   "source": [
    "class NeuralNet(nn.Module):\n",
    "    def __init__(self):\n",
    "        super.__init__()\n",
    "        \n",
    "    \n",
    "    def forward(self, x):\n",
    "        x = self.flatten(x)\n",
    "        \n",
    "        \n",
    "#todo conv way or relu way"
   ],
   "id": "8d59a57a6b65b022"
  },
  {
   "metadata": {},
   "cell_type": "markdown",
   "source": "# todo train/test/possibly do the image display thing/ save&load models/ https://pytorch.org/tutorials/beginner/introyt/introyt1_tutorial.html / hyperparams",
   "id": "5b227b9081d401d"
  }
 ],
 "metadata": {
  "kernelspec": {
   "display_name": "Python 3",
   "language": "python",
   "name": "python3"
  },
  "language_info": {
   "codemirror_mode": {
    "name": "ipython",
    "version": 2
   },
   "file_extension": ".py",
   "mimetype": "text/x-python",
   "name": "python",
   "nbconvert_exporter": "python",
   "pygments_lexer": "ipython2",
   "version": "2.7.6"
  }
 },
 "nbformat": 4,
 "nbformat_minor": 5
}
