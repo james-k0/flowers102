{
 "cells": [
  {
   "metadata": {},
   "cell_type": "markdown",
   "source": "# Lets import some things",
   "id": "142eeeb79eb83a8a"
  },
  {
   "metadata": {
    "ExecuteTime": {
     "end_time": "2024-05-07T05:32:49.166169Z",
     "start_time": "2024-05-07T05:32:46.187962Z"
    }
   },
   "cell_type": "code",
   "source": [
    "import numpy as np\n",
    "import matplotlib.pyplot as plt\n",
    "import seaborn as sns\n",
    "import torch\n",
    "import torch.nn as nn\n",
    "import torchvision\n",
    "from torchvision import datasets, transforms\n"
   ],
   "id": "4ad965f1f42def01",
   "outputs": [],
   "execution_count": 1
  },
  {
   "metadata": {},
   "cell_type": "markdown",
   "source": "# Decide if cuda",
   "id": "d88e0acccf7cb139"
  },
  {
   "metadata": {
    "ExecuteTime": {
     "end_time": "2024-05-07T05:33:58.697707Z",
     "start_time": "2024-05-07T05:33:58.692834Z"
    }
   },
   "cell_type": "code",
   "source": [
    "device = torch.device('cpu')\n",
    "if torch.cuda.is_available():\n",
    "    print('CUDA available')\n",
    "    device = torch.device(\"cuda:0\")\n",
    "print(f'Device: {device}')"
   ],
   "id": "73da4c622feeb2aa",
   "outputs": [
    {
     "name": "stdout",
     "output_type": "stream",
     "text": [
      "Device: cpu\n"
     ]
    }
   ],
   "execution_count": 2
  },
  {
   "metadata": {},
   "cell_type": "markdown",
   "source": "# Load dataset",
   "id": "c2ad99af88910169"
  },
  {
   "metadata": {},
   "cell_type": "code",
   "outputs": [],
   "execution_count": null,
   "source": "",
   "id": "c91f24f7d6957763"
  },
  {
   "metadata": {},
   "cell_type": "markdown",
   "source": "# ",
   "id": "bd64623863f268b9"
  }
 ],
 "metadata": {
  "kernelspec": {
   "display_name": "Python 3",
   "language": "python",
   "name": "python3"
  },
  "language_info": {
   "codemirror_mode": {
    "name": "ipython",
    "version": 2
   },
   "file_extension": ".py",
   "mimetype": "text/x-python",
   "name": "python",
   "nbconvert_exporter": "python",
   "pygments_lexer": "ipython2",
   "version": "2.7.6"
  }
 },
 "nbformat": 4,
 "nbformat_minor": 5
}
