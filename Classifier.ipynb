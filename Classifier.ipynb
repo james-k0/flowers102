{
 "cells": [
  {
   "cell_type": "markdown",
   "id": "142eeeb79eb83a8a",
   "metadata": {},
   "source": [
    "# Lets import some things"
   ]
  },
  {
   "cell_type": "code",
   "id": "4ad965f1f42def01",
   "metadata": {
    "ExecuteTime": {
     "end_time": "2024-05-09T07:56:20.454583Z",
     "start_time": "2024-05-09T07:56:15.247520Z"
    }
   },
   "source": [
    "import numpy as np\n",
    "import matplotlib.pyplot as plt\n",
    "import seaborn as sns\n",
    "import torch\n",
    "from torch.utils.data import DataLoader\n",
    "import torch.nn as nn\n",
    "import torchvision\n",
    "from torchvision import datasets\n",
    "import torchvision.transforms.v2 as transforms\n"
   ],
   "outputs": [],
   "execution_count": 1
  },
  {
   "cell_type": "markdown",
   "id": "d88e0acccf7cb139",
   "metadata": {},
   "source": [
    "# Decide if cuda"
   ]
  },
  {
   "cell_type": "code",
   "id": "73da4c622feeb2aa",
   "metadata": {
    "ExecuteTime": {
     "end_time": "2024-05-09T07:56:20.460438Z",
     "start_time": "2024-05-09T07:56:20.455583Z"
    }
   },
   "source": [
    "device = torch.device(\"cuda\" if torch.cuda.is_available() else \"cpu\")\n",
    "print(device)\n",
    "torch.backends.cudnn.benchmark = True"
   ],
   "outputs": [
    {
     "name": "stdout",
     "output_type": "stream",
     "text": [
      "cuda\n"
     ]
    }
   ],
   "execution_count": 2
  },
  {
   "cell_type": "markdown",
   "id": "c2ad99af88910169",
   "metadata": {},
   "source": [
    "# Load dataset"
   ]
  },
  {
   "metadata": {
    "ExecuteTime": {
     "end_time": "2024-05-09T07:56:20.466031Z",
     "start_time": "2024-05-09T07:56:20.461436Z"
    }
   },
   "cell_type": "code",
   "source": [
    "batchsize = 16\n",
    "num_classes = 102\n",
    "learning_rate = 0.0015\n",
    "num_epochs = 100"
   ],
   "id": "7690d8df799a18b7",
   "outputs": [],
   "execution_count": 3
  },
  {
   "cell_type": "code",
   "id": "c91f24f7d6957763",
   "metadata": {
    "ExecuteTime": {
     "end_time": "2024-05-09T07:56:20.558259Z",
     "start_time": "2024-05-09T07:56:20.467025Z"
    }
   },
   "source": [
    "trainingData = datasets.Flowers102(\n",
    "    root=\"data\",\n",
    "    split = \"train\",\n",
    "    download = True,\n",
    "    transform = transforms.Compose([\n",
    "        transforms.Resize((256,256)),\n",
    "        # transforms.RandomResizedCrop((256, 256),antialias=True),\n",
    "        transforms.RandomRotation(30), \n",
    "        transforms.RandomHorizontalFlip(),\n",
    "        transforms.ToTensor(),\n",
    "        # transforms.Normalize([0.5,],[0.2,])\n",
    "    ])\n",
    ")\n",
    "testData = datasets.Flowers102(\n",
    "    root=\"data\",\n",
    "    split= \"test\",\n",
    "    download = True,\n",
    "    transform = transforms.Compose([\n",
    "        transforms.Resize((256, 256)),\n",
    "        transforms.ToTensor()\n",
    "    ])\n",
    ")\n",
    "valData = datasets.Flowers102(\n",
    "    root=\"data\",\n",
    "    split = \"val\",\n",
    "    download = True,\n",
    "    transform = transforms.Compose([\n",
    "        transforms.Resize((256, 256)),\n",
    "        transforms.ToTensor()\n",
    "    ])\n",
    ")"
   ],
   "outputs": [
    {
     "name": "stderr",
     "output_type": "stream",
     "text": [
      "C:\\Users\\James\\AppData\\Local\\Programs\\Python\\Python312\\Lib\\site-packages\\torchvision\\transforms\\v2\\_deprecated.py:42: UserWarning: The transform `ToTensor()` is deprecated and will be removed in a future release. Instead, please use `v2.Compose([v2.ToImage(), v2.ToDtype(torch.float32, scale=True)])`.Output is equivalent up to float precision.\n",
      "  warnings.warn(\n"
     ]
    }
   ],
   "execution_count": 4
  },
  {
   "cell_type": "markdown",
   "id": "bd64623863f268b9",
   "metadata": {},
   "source": "# Get some dataloaders"
  },
  {
   "metadata": {
    "ExecuteTime": {
     "end_time": "2024-05-09T07:56:20.563260Z",
     "start_time": "2024-05-09T07:56:20.559259Z"
    }
   },
   "cell_type": "code",
   "source": [
    "train_dataloader = DataLoader(trainingData, batch_size=batchsize, shuffle=True, num_workers=4, pin_memory=True)\n",
    "test_dataloader = DataLoader(testData, batch_size=batchsize, shuffle=False, num_workers=4, pin_memory=True)\n",
    "val_dataloader = DataLoader(valData, batch_size=batchsize, shuffle=False, num_workers=4, pin_memory=True)"
   ],
   "id": "b9a820ebbeb7301",
   "outputs": [],
   "execution_count": 5
  },
  {
   "metadata": {},
   "cell_type": "markdown",
   "source": "# Neural Network class",
   "id": "868426731ab0327f"
  },
  {
   "metadata": {
    "ExecuteTime": {
     "end_time": "2024-05-09T07:56:20.569574Z",
     "start_time": "2024-05-09T07:56:20.563894Z"
    }
   },
   "cell_type": "code",
   "source": [
    "class NeuralNet(nn.Module):\n",
    "    def __init__(self):\n",
    "        super(NeuralNet, self).__init__()\n",
    "        self.features = nn.Sequential(\n",
    "            nn.Conv2d(3,32,kernel_size=5,stride=1,padding=2),\n",
    "            nn.ReLU(),\n",
    "            nn.MaxPool2d(kernel_size=2, stride=2),#half size\n",
    "            nn.Conv2d(32,64,kernel_size=5,stride=1,padding=2),\n",
    "            nn.ReLU(),\n",
    "            nn.MaxPool2d(kernel_size=2, stride=2),#half size\n",
    "        )\n",
    "        self.classifier = nn.Sequential(\n",
    "            nn.Linear(64*64*64 ,4096),\n",
    "            nn.ReLU(),\n",
    "            nn.Dropout(), #add a bit of randomness for some fun  + generality\n",
    "            nn.Linear(4096,102),\n",
    "            nn.LogSoftmax(dim=1)\n",
    "        )\n",
    "        \n",
    "        \n",
    "    def forward(self, x):\n",
    "        x= self.features(x)\n",
    "        x= x.view(x.size(0),-1)\n",
    "        x = self.classifier(x)\n",
    "        return x"
   ],
   "id": "8d59a57a6b65b022",
   "outputs": [],
   "execution_count": 6
  },
  {
   "metadata": {},
   "cell_type": "markdown",
   "source": "# Model = something",
   "id": "dc3cece99a0a34e5"
  },
  {
   "metadata": {
    "ExecuteTime": {
     "end_time": "2024-05-09T07:56:28.091693Z",
     "start_time": "2024-05-09T07:56:20.571574Z"
    }
   },
   "cell_type": "code",
   "source": [
    "model = NeuralNet().to(device,non_blocking=True)\n",
    "cost = nn.CrossEntropyLoss()\n",
    "optimizer = torch.optim.SGD(model.parameters(), lr=learning_rate)"
   ],
   "id": "3c674a71d42e7ccf",
   "outputs": [],
   "execution_count": 7
  },
  {
   "metadata": {},
   "cell_type": "markdown",
   "source": "# Actually do the training, needs to print less often",
   "id": "b45d3b77ea993113"
  },
  {
   "metadata": {
    "ExecuteTime": {
     "end_time": "2024-05-09T10:10:03.131814Z",
     "start_time": "2024-05-09T07:56:28.092693Z"
    }
   },
   "cell_type": "code",
   "source": [
    "training_epoch_losses = []\n",
    "def train():\n",
    "    for epoch in range(num_epochs):\n",
    "        running_loss = 0.0\n",
    "        batches = 0\n",
    "        for i, (images,labels) in enumerate(train_dataloader):\n",
    "            images = images.to(device, non_blocking=True)\n",
    "            labels = labels.to(device, non_blocking=True)\n",
    "            # images = images.to(device)\n",
    "            # labels = labels.to(device)\n",
    "            outputs = model(images)\n",
    "            optimizer.zero_grad()\n",
    "            loss = cost(outputs, labels)\n",
    "            loss.backward()\n",
    "            optimizer.step()\n",
    "            \n",
    "            running_loss += loss.item()\n",
    "            batches +=1\n",
    "        training_epoch_losses.append(running_loss/batches)\n",
    "        print(f'Epoch: {epoch+1}, Avg Loss: {running_loss/batches:4f}, Num Batches: {batches}')\n",
    "train()"
   ],
   "id": "72560a0c0069c7aa",
   "outputs": [
    {
     "name": "stdout",
     "output_type": "stream",
     "text": [
      "Epoch: 1, Avg Loss: 4.633003, Num Batches: 64\n",
      "Epoch: 2, Avg Loss: 4.616152, Num Batches: 64\n",
      "Epoch: 3, Avg Loss: 4.602245, Num Batches: 64\n",
      "Epoch: 4, Avg Loss: 4.587397, Num Batches: 64\n",
      "Epoch: 5, Avg Loss: 4.563112, Num Batches: 64\n",
      "Epoch: 6, Avg Loss: 4.532539, Num Batches: 64\n",
      "Epoch: 7, Avg Loss: 4.481226, Num Batches: 64\n",
      "Epoch: 8, Avg Loss: 4.403786, Num Batches: 64\n",
      "Epoch: 9, Avg Loss: 4.322232, Num Batches: 64\n",
      "Epoch: 10, Avg Loss: 4.220958, Num Batches: 64\n",
      "Epoch: 11, Avg Loss: 4.113497, Num Batches: 64\n",
      "Epoch: 12, Avg Loss: 4.012945, Num Batches: 64\n",
      "Epoch: 13, Avg Loss: 3.943701, Num Batches: 64\n",
      "Epoch: 14, Avg Loss: 3.863554, Num Batches: 64\n",
      "Epoch: 15, Avg Loss: 3.792663, Num Batches: 64\n",
      "Epoch: 16, Avg Loss: 3.699913, Num Batches: 64\n",
      "Epoch: 17, Avg Loss: 3.595262, Num Batches: 64\n",
      "Epoch: 18, Avg Loss: 3.511514, Num Batches: 64\n",
      "Epoch: 19, Avg Loss: 3.428761, Num Batches: 64\n",
      "Epoch: 20, Avg Loss: 3.333068, Num Batches: 64\n",
      "Epoch: 21, Avg Loss: 3.259229, Num Batches: 64\n",
      "Epoch: 22, Avg Loss: 3.181836, Num Batches: 64\n",
      "Epoch: 23, Avg Loss: 3.111478, Num Batches: 64\n",
      "Epoch: 24, Avg Loss: 3.033880, Num Batches: 64\n",
      "Epoch: 25, Avg Loss: 3.001735, Num Batches: 64\n",
      "Epoch: 26, Avg Loss: 2.929835, Num Batches: 64\n",
      "Epoch: 27, Avg Loss: 2.843170, Num Batches: 64\n",
      "Epoch: 28, Avg Loss: 2.784487, Num Batches: 64\n",
      "Epoch: 29, Avg Loss: 2.735517, Num Batches: 64\n",
      "Epoch: 30, Avg Loss: 2.639583, Num Batches: 64\n",
      "Epoch: 31, Avg Loss: 2.641384, Num Batches: 64\n",
      "Epoch: 32, Avg Loss: 2.594496, Num Batches: 64\n",
      "Epoch: 33, Avg Loss: 2.523910, Num Batches: 64\n",
      "Epoch: 34, Avg Loss: 2.461050, Num Batches: 64\n",
      "Epoch: 35, Avg Loss: 2.446029, Num Batches: 64\n",
      "Epoch: 36, Avg Loss: 2.364409, Num Batches: 64\n",
      "Epoch: 37, Avg Loss: 2.314081, Num Batches: 64\n",
      "Epoch: 38, Avg Loss: 2.281287, Num Batches: 64\n",
      "Epoch: 39, Avg Loss: 2.232186, Num Batches: 64\n",
      "Epoch: 40, Avg Loss: 2.201458, Num Batches: 64\n",
      "Epoch: 41, Avg Loss: 2.166985, Num Batches: 64\n",
      "Epoch: 42, Avg Loss: 2.129186, Num Batches: 64\n",
      "Epoch: 43, Avg Loss: 2.086135, Num Batches: 64\n",
      "Epoch: 44, Avg Loss: 2.032749, Num Batches: 64\n",
      "Epoch: 45, Avg Loss: 1.988155, Num Batches: 64\n",
      "Epoch: 46, Avg Loss: 1.965690, Num Batches: 64\n",
      "Epoch: 47, Avg Loss: 1.895141, Num Batches: 64\n",
      "Epoch: 48, Avg Loss: 1.883856, Num Batches: 64\n",
      "Epoch: 49, Avg Loss: 1.814189, Num Batches: 64\n",
      "Epoch: 50, Avg Loss: 1.730491, Num Batches: 64\n",
      "Epoch: 51, Avg Loss: 1.761509, Num Batches: 64\n",
      "Epoch: 52, Avg Loss: 1.751956, Num Batches: 64\n",
      "Epoch: 53, Avg Loss: 1.688723, Num Batches: 64\n",
      "Epoch: 54, Avg Loss: 1.630302, Num Batches: 64\n",
      "Epoch: 55, Avg Loss: 1.580044, Num Batches: 64\n",
      "Epoch: 56, Avg Loss: 1.609166, Num Batches: 64\n",
      "Epoch: 57, Avg Loss: 1.544088, Num Batches: 64\n",
      "Epoch: 58, Avg Loss: 1.447560, Num Batches: 64\n",
      "Epoch: 59, Avg Loss: 1.453779, Num Batches: 64\n",
      "Epoch: 60, Avg Loss: 1.385860, Num Batches: 64\n",
      "Epoch: 61, Avg Loss: 1.375498, Num Batches: 64\n",
      "Epoch: 62, Avg Loss: 1.355867, Num Batches: 64\n",
      "Epoch: 63, Avg Loss: 1.298898, Num Batches: 64\n",
      "Epoch: 64, Avg Loss: 1.288305, Num Batches: 64\n",
      "Epoch: 65, Avg Loss: 1.226985, Num Batches: 64\n",
      "Epoch: 66, Avg Loss: 1.250593, Num Batches: 64\n",
      "Epoch: 67, Avg Loss: 1.110218, Num Batches: 64\n",
      "Epoch: 68, Avg Loss: 1.152631, Num Batches: 64\n",
      "Epoch: 69, Avg Loss: 1.164905, Num Batches: 64\n",
      "Epoch: 70, Avg Loss: 1.032310, Num Batches: 64\n",
      "Epoch: 71, Avg Loss: 1.101806, Num Batches: 64\n",
      "Epoch: 72, Avg Loss: 0.987101, Num Batches: 64\n",
      "Epoch: 73, Avg Loss: 0.989483, Num Batches: 64\n",
      "Epoch: 74, Avg Loss: 0.969004, Num Batches: 64\n",
      "Epoch: 75, Avg Loss: 0.892989, Num Batches: 64\n",
      "Epoch: 76, Avg Loss: 0.914918, Num Batches: 64\n",
      "Epoch: 77, Avg Loss: 0.876447, Num Batches: 64\n",
      "Epoch: 78, Avg Loss: 0.838854, Num Batches: 64\n",
      "Epoch: 79, Avg Loss: 0.852063, Num Batches: 64\n",
      "Epoch: 80, Avg Loss: 0.800518, Num Batches: 64\n",
      "Epoch: 81, Avg Loss: 0.800484, Num Batches: 64\n",
      "Epoch: 82, Avg Loss: 0.816895, Num Batches: 64\n",
      "Epoch: 83, Avg Loss: 0.704958, Num Batches: 64\n",
      "Epoch: 84, Avg Loss: 0.703302, Num Batches: 64\n",
      "Epoch: 85, Avg Loss: 0.734875, Num Batches: 64\n",
      "Epoch: 86, Avg Loss: 0.621201, Num Batches: 64\n",
      "Epoch: 87, Avg Loss: 0.647581, Num Batches: 64\n",
      "Epoch: 88, Avg Loss: 0.658154, Num Batches: 64\n",
      "Epoch: 89, Avg Loss: 0.618848, Num Batches: 64\n",
      "Epoch: 90, Avg Loss: 0.580032, Num Batches: 64\n",
      "Epoch: 91, Avg Loss: 0.530121, Num Batches: 64\n",
      "Epoch: 92, Avg Loss: 0.626373, Num Batches: 64\n",
      "Epoch: 93, Avg Loss: 0.524572, Num Batches: 64\n",
      "Epoch: 94, Avg Loss: 0.544241, Num Batches: 64\n",
      "Epoch: 95, Avg Loss: 0.505748, Num Batches: 64\n",
      "Epoch: 96, Avg Loss: 0.484269, Num Batches: 64\n",
      "Epoch: 97, Avg Loss: 0.491956, Num Batches: 64\n",
      "Epoch: 98, Avg Loss: 0.473599, Num Batches: 64\n",
      "Epoch: 99, Avg Loss: 0.480180, Num Batches: 64\n",
      "Epoch: 100, Avg Loss: 0.436386, Num Batches: 64\n"
     ]
    }
   ],
   "execution_count": 8
  },
  {
   "metadata": {},
   "cell_type": "markdown",
   "source": "# Plot the avg loss against epochs",
   "id": "d782dcfdf6d119ea"
  },
  {
   "metadata": {
    "ExecuteTime": {
     "end_time": "2024-05-09T10:10:03.419466Z",
     "start_time": "2024-05-09T10:10:03.133348Z"
    }
   },
   "cell_type": "code",
   "source": [
    "plt.plot(training_epoch_losses, label='Training Loss')\n",
    "# plt.plot(validation_epoch_losses,label='Validation Loss')   \n",
    "plt.legend()\n",
    "plt.show()"
   ],
   "id": "6f85777e0d9e04a",
   "outputs": [
    {
     "data": {
      "text/plain": [
       "<Figure size 640x480 with 1 Axes>"
      ],
      "image/png": "[encoded data removed]"
     },
     "metadata": {},
     "output_type": "display_data"
    }
   ],
   "execution_count": 9
  },
  {
   "metadata": {},
   "cell_type": "markdown",
   "source": "# Display the training, testing, validation accuracy",
   "id": "b07755bb63750bb6"
  },
  {
   "metadata": {
    "ExecuteTime": {
     "end_time": "2024-05-09T10:11:07.872536Z",
     "start_time": "2024-05-09T10:10:03.420476Z"
    }
   },
   "cell_type": "code",
   "source": [
    "def evaluate(dataloader):\n",
    "    model.eval()\n",
    "    correct = 0\n",
    "    total =0\n",
    "    with torch.no_grad():\n",
    "        for images, labels in dataloader:\n",
    "            images = images.to(device)\n",
    "            labels = labels.to(device)\n",
    "            outputs = model(images)\n",
    "            _, predicted = torch.max(outputs.data, 1)\n",
    "            total += labels.size(0)\n",
    "            correct += (predicted==labels).sum().item()\n",
    "        acc= float(100*correct/total)\n",
    "    return acc\n",
    "print(f'val acc: {evaluate(val_dataloader):.3f}%')\n",
    "print(f'test acc: {evaluate(test_dataloader):.3f}%')\n",
    "print(f'train acc: {evaluate(train_dataloader):.3f}%')"
   ],
   "id": "e13855c76f6898e5",
   "outputs": [
    {
     "name": "stdout",
     "output_type": "stream",
     "text": [
      "val acc: 27.549%\n",
      "test acc: 25.533%\n",
      "train acc: 94.706%\n"
     ]
    }
   ],
   "execution_count": 10
  },
  {
   "metadata": {},
   "cell_type": "markdown",
   "source": "# Save model",
   "id": "64ed56e49ddcbfe0"
  },
  {
   "metadata": {
    "ExecuteTime": {
     "end_time": "2024-05-09T10:11:07.879649Z",
     "start_time": "2024-05-09T10:11:07.874059Z"
    }
   },
   "cell_type": "code",
   "source": [
    "def save(pathname):\n",
    "    torch.save(NeuralNet().state_dict(), f'{pathname}.pth')\n",
    "    print(f'Saved model to {pathname}.pth')"
   ],
   "id": "2c094c4c70e7f5dc",
   "outputs": [],
   "execution_count": 11
  },
  {
   "metadata": {},
   "cell_type": "markdown",
   "source": "# Load model",
   "id": "645b31994f41178c"
  },
  {
   "metadata": {
    "ExecuteTime": {
     "end_time": "2024-05-09T10:11:07.889184Z",
     "start_time": "2024-05-09T10:11:07.881647Z"
    }
   },
   "cell_type": "code",
   "source": [
    "def load(pathname):\n",
    "    model = NeuralNet().to(device)\n",
    "    model.load_state_dict(torch.load(f'{pathname}.pth'))\n",
    "    print(f'Loaded model from {pathname}.pth')"
   ],
   "id": "eaac39b9aad117d5",
   "outputs": [],
   "execution_count": 12
  },
  {
   "metadata": {},
   "cell_type": "markdown",
   "source": "# Command line to convert this notebook to a python file, the reason is for readability of the code from github lol",
   "id": "3b22420e0604364a"
  },
  {
   "metadata": {
    "ExecuteTime": {
     "end_time": "2024-05-09T10:11:12.340984Z",
     "start_time": "2024-05-09T10:11:07.891185Z"
    }
   },
   "cell_type": "code",
   "source": "!jupyter nbconvert --to script Classifier.ipynb",
   "id": "312d2e044d24b798",
   "outputs": [
    {
     "name": "stderr",
     "output_type": "stream",
     "text": [
      "[NbConvertApp] Converting notebook Classifier.ipynb to script\n",
      "[NbConvertApp] Writing 5271 bytes to Classifier.py\n"
     ]
    }
   ],
   "execution_count": 13
  },
  {
   "metadata": {},
   "cell_type": "markdown",
   "source": "# todo possibly do the image display thing/ https://pytorch.org/tutorials/beginner/introyt/introyt1_tutorial.html / tune hyperparams",
   "id": "a2cad47e7f89011c"
  },
  {
   "metadata": {},
   "cell_type": "code",
   "outputs": [],
   "execution_count": null,
   "source": "",
   "id": "4dc4bba0bbd2482a"
  }
 ],
 "metadata": {
  "kernelspec": {
   "display_name": "Python 3",
   "language": "python",
   "name": "python3"
  },
  "language_info": {
   "codemirror_mode": {
    "name": "ipython",
    "version": 2
   },
   "file_extension": ".py",
   "mimetype": "text/x-python",
   "name": "python",
   "nbconvert_exporter": "python",
   "pygments_lexer": "ipython2",
   "version": "2.7.6"
  }
 },
 "nbformat": 4,
 "nbformat_minor": 5
}
